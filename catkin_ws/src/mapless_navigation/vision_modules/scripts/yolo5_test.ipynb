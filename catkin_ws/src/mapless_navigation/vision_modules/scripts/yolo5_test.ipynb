{
 "cells": [
  {
   "cell_type": "code",
   "execution_count": 2,
   "metadata": {},
   "outputs": [
    {
     "name": "stderr",
     "output_type": "stream",
     "text": [
      "YOLOv5 🚀 2024-1-24 Python-3.8.10 torch-2.1.2+cu121 CUDA:0 (NVIDIA GeForce RTX 4060 Laptop GPU, 7931MiB)\n"
     ]
    },
    {
     "name": "stdout",
     "output_type": "stream",
     "text": [
      "Setup complete ✅ (16 CPUs, 14.8 GB RAM, 184.8/245.0 GB disk)\n"
     ]
    }
   ],
   "source": [
    "import torch\n",
    "import yolov5.utils\n",
    "display = yolov5.utils.notebook_init()  # checks\n",
    "\n",
    "%matplotlib inline"
   ]
  },
  {
   "cell_type": "code",
   "execution_count": 9,
   "metadata": {},
   "outputs": [],
   "source": [
    "class RGBD():\n",
    "    def __init__(self):\n",
    "        \n",
    "        self._cloud_sub = rospy.Subscriber(\n",
    "            \"/camera/depth_registered/points\",\n",
    "            PointCloud2, self._cloud_cb)\n",
    "        self._points_data = None\n",
    "        self._image_data = None\n",
    "        \n",
    "\n",
    "    def _cloud_cb(self, msg):\n",
    "        self._points_data = ros_numpy.numpify(msg)\n",
    "        self._image_data = self._points_data['rgb'].view((np.uint8, 4))[..., [2, 1, 0]]\n",
    "        \n",
    "\n",
    "    def get_image(self):\n",
    "        return self._image_data\n",
    "\n",
    "    def get_points(self):\n",
    "        return self._points_data"
   ]
  },
  {
   "cell_type": "code",
   "execution_count": 10,
   "metadata": {},
   "outputs": [],
   "source": [
    "import tf\n",
    "import rospy\n",
    "from sensor_msgs.msg import Image , LaserScan , PointCloud2\n",
    "rgbd = RGBD()\n"
   ]
  },
  {
   "cell_type": "code",
   "execution_count": null,
   "metadata": {},
   "outputs": [],
   "source": [
    "img = rgbd.get_image()\n",
    "plt.imshow(img)"
   ]
  }
 ],
 "metadata": {
  "kernelspec": {
   "display_name": "Python 3",
   "language": "python",
   "name": "python3"
  },
  "language_info": {
   "codemirror_mode": {
    "name": "ipython",
    "version": 3
   },
   "file_extension": ".py",
   "mimetype": "text/x-python",
   "name": "python",
   "nbconvert_exporter": "python",
   "pygments_lexer": "ipython3",
   "version": "3.8.10"
  }
 },
 "nbformat": 4,
 "nbformat_minor": 2
}
