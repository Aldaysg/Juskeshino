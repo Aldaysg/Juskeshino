{
 "cells": [
  {
   "cell_type": "code",
   "execution_count": 1,
   "metadata": {},
   "outputs": [
    {
     "name": "stderr",
     "output_type": "stream",
     "text": [
      "YOLOv5 🚀 2024-1-24 Python-3.8.10 torch-2.1.2+cu121 CUDA:0 (NVIDIA GeForce RTX 4060 Laptop GPU, 7931MiB)\n"
     ]
    },
    {
     "name": "stdout",
     "output_type": "stream",
     "text": [
      "Setup complete ✅ (16 CPUs, 14.8 GB RAM, 184.7/245.0 GB disk)\n"
     ]
    }
   ],
   "source": [
    "import torch\n",
    "import yolov5.utils\n",
    "display = yolov5.utils.notebook_init()  # checks\n",
    "\n",
    "%matplotlib inline"
   ]
  },
  {
   "cell_type": "code",
   "execution_count": 2,
   "metadata": {},
   "outputs": [],
   "source": [
    "class RGBD():\n",
    "    def __init__(self):\n",
    "        \n",
    "        self._cloud_sub = rospy.Subscriber(\n",
    "            \"/camera/depth_registered/points\",\n",
    "            PointCloud2, self._cloud_cb)\n",
    "        self._points_data = None\n",
    "        self._image_data = None\n",
    "        \n",
    "\n",
    "    def _cloud_cb(self, msg):\n",
    "        self._points_data = ros_numpy.numpify(msg)\n",
    "        self._image_data = self._points_data['rgb'].view((np.uint8, 4))[..., [2, 1, 0]]\n",
    "        \n",
    "\n",
    "    def get_image(self):\n",
    "        return self._image_data\n",
    "\n",
    "    def get_points(self):\n",
    "        return self._points_data"
   ]
  },
  {
   "cell_type": "code",
   "execution_count": 3,
   "metadata": {},
   "outputs": [],
   "source": [
    "import tf\n",
    "import rospy\n",
    "from sensor_msgs.msg import Image , LaserScan , PointCloud2\n",
    "rgbd = RGBD()\n"
   ]
  },
  {
   "cell_type": "code",
   "execution_count": 9,
   "metadata": {},
   "outputs": [
    {
     "ename": "error",
     "evalue": "OpenCV(4.7.0) /io/opencv/modules/imgproc/src/color.cpp:182: error: (-215:Assertion failed) !_src.empty() in function 'cvtColor'\n",
     "output_type": "error",
     "traceback": [
      "\u001b[0;31m---------------------------------------------------------------------------\u001b[0m",
      "\u001b[0;31merror\u001b[0m                                     Traceback (most recent call last)",
      "Cell \u001b[0;32mIn[9], line 6\u001b[0m\n\u001b[1;32m      4\u001b[0m test_img\u001b[38;5;241m=\u001b[39mrgbd\u001b[38;5;241m.\u001b[39mget_image()\n\u001b[1;32m      5\u001b[0m \u001b[38;5;66;03m#test_img= cv2.cvtColor(test_img, cv2.COLOR_RGB2BGR)## CONVERT TO CV U MAT\u001b[39;00m\n\u001b[0;32m----> 6\u001b[0m test_img\u001b[38;5;241m=\u001b[39m \u001b[43mcv2\u001b[49m\u001b[38;5;241;43m.\u001b[39;49m\u001b[43mcvtColor\u001b[49m\u001b[43m(\u001b[49m\u001b[43mtest_img\u001b[49m\u001b[43m,\u001b[49m\u001b[43m \u001b[49m\u001b[43mcv2\u001b[49m\u001b[38;5;241;43m.\u001b[39;49m\u001b[43mCOLOR_BGR2RGB\u001b[49m\u001b[43m)\u001b[49m\n\u001b[1;32m      7\u001b[0m plt\u001b[38;5;241m.\u001b[39mimshow(test_img)\n",
      "\u001b[0;31merror\u001b[0m: OpenCV(4.7.0) /io/opencv/modules/imgproc/src/color.cpp:182: error: (-215:Assertion failed) !_src.empty() in function 'cvtColor'\n"
     ]
    }
   ],
   "source": [
    "import matplotlib.pyplot as plt\n",
    "import cv2\n",
    "\n",
    "test_img=rgbd.get_image()\n",
    "test_img= cv2.cvtColor(test_img, cv2.COLOR_RGB2BGR)## CONVERT TO CV U MAT\n",
    "test_img= cv2.cvtColor(test_img, cv2.COLOR_BGR2RGB)\n",
    "plt.imshow(test_img)"
   ]
  }
 ],
 "metadata": {
  "kernelspec": {
   "display_name": "Python 3",
   "language": "python",
   "name": "python3"
  },
  "language_info": {
   "codemirror_mode": {
    "name": "ipython",
    "version": 3
   },
   "file_extension": ".py",
   "mimetype": "text/x-python",
   "name": "python",
   "nbconvert_exporter": "python",
   "pygments_lexer": "ipython3",
   "version": "3.8.10"
  }
 },
 "nbformat": 4,
 "nbformat_minor": 2
}
