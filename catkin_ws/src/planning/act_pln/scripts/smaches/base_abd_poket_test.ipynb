{
 "cells": [
  {
   "cell_type": "code",
   "execution_count": 1,
   "metadata": {},
   "outputs": [
    {
     "name": "stdout",
     "output_type": "stream",
     "text": [
      "JuskeshinoHRI.->Setting ros node...\n",
      "JuskeshinoHardware.->Setting ros node...\n"
     ]
    }
   ],
   "source": [
    "from smach_utils_justina import *"
   ]
  },
  {
   "cell_type": "code",
   "execution_count": null,
   "metadata": {},
   "outputs": [],
   "source": [
    "mesage_catch = JuskeshinoHRI.waitForNewSentence(5)\n",
    "\n",
    "print(mesage_catch)"
   ]
  },
  {
   "cell_type": "code",
   "execution_count": null,
   "metadata": {},
   "outputs": [],
   "source": [
    "confirmation = get_keywords_speech(2)\n",
    "print(confirmation)"
   ]
  },
  {
   "cell_type": "code",
   "execution_count": null,
   "metadata": {},
   "outputs": [],
   "source": [
    "omni_base.tiny_move(0,0,.5)"
   ]
  },
  {
   "cell_type": "code",
   "execution_count": null,
   "metadata": {},
   "outputs": [],
   "source": [
    "#######3333"
   ]
  },
  {
   "cell_type": "code",
   "execution_count": 2,
   "metadata": {},
   "outputs": [
    {
     "name": "stdout",
     "output_type": "stream",
     "text": [
      ">>>>>>>>>>>>> camera_rgb_optical_frame\n",
      "<class 'str'>\n"
     ]
    },
    {
     "data": {
      "text/plain": [
       "[[8.066594317353683, 2.7627457848819645, 1.5168052971806463],\n",
       " [0.6784931985181825,\n",
       "  0.531896047871761,\n",
       "  -0.31262297489576635,\n",
       "  -0.39874860424870334]]"
      ]
     },
     "execution_count": 2,
     "metadata": {},
     "output_type": "execute_result"
    }
   ],
   "source": [
    "tf_man.getTF(\"camera_rgb_optical_frame\", 'map')"
   ]
  },
  {
   "cell_type": "code",
   "execution_count": 3,
   "metadata": {},
   "outputs": [
    {
     "name": "stdout",
     "output_type": "stream",
     "text": [
      "obj.point header: \n",
      "  seq: 0\n",
      "  stamp: \n",
      "    secs: 0\n",
      "    nsecs:         0\n",
      "  frame_id: \"camera_rgb_optical_frame\"\n",
      "point: \n",
      "  x: -0.2710649371147156\n",
      "  y: 0.21099962294101715\n",
      "  z: 1.3295106887817383\n"
     ]
    },
    {
     "data": {
      "text/plain": [
       "header: \n",
       "  seq: 0\n",
       "  stamp: \n",
       "    secs: 1824\n",
       "    nsecs: 368000000\n",
       "  frame_id: \"map\"\n",
       "point: \n",
       "  x: 6.973759449577728\n",
       "  y: 2.752030427929361\n",
       "  z: 0.6856643523180912"
      ]
     },
     "execution_count": 3,
     "metadata": {},
     "output_type": "execute_result"
    },
    {
     "name": "stdout",
     "output_type": "stream",
     "text": [
      "shutdown request: [/smach_justina_tune_vision] Reason: new node registered with same name\n"
     ]
    }
   ],
   "source": [
    "position = [-0.2710649371147156, 0.21099962294101715, 1.3295106887817383]\n",
    "object_point = PointStamped()\n",
    "rospy.sleep(0.5)\n",
    "object_point.header.frame_id = \"camera_rgb_optical_frame\" # take: \"head_rgbd_sensor_rgb_frame\"\n",
    "object_point.point.x = position[0]\n",
    "object_point.point.y = position[1]\n",
    "object_point.point.z = position[2]\n",
    "print(\"obj.point\", object_point)\n",
    "tfBuffer.transform(object_point, \"map\", timeout=rospy.Duration(2))"
   ]
  }
 ],
 "metadata": {
  "kernelspec": {
   "display_name": "Python 3",
   "language": "python",
   "name": "python3"
  },
  "language_info": {
   "codemirror_mode": {
    "name": "ipython",
    "version": 3
   },
   "file_extension": ".py",
   "mimetype": "text/x-python",
   "name": "python",
   "nbconvert_exporter": "python",
   "pygments_lexer": "ipython3",
   "version": "3.8.10"
  }
 },
 "nbformat": 4,
 "nbformat_minor": 2
}
